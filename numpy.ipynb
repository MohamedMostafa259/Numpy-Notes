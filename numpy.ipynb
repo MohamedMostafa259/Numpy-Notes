{
 "cells": [
  {
   "cell_type": "code",
   "execution_count": 1,
   "metadata": {},
   "outputs": [],
   "source": [
    "import numpy as np "
   ]
  },
  {
   "cell_type": "markdown",
   "metadata": {},
   "source": [
    "# Array Creation\n",
    "\n",
    "`np.array()`: Creates a NumPy array from a Python sequence (like a list, tuple, or other array-like object).\n",
    "\n",
    "-\t`np.asarray()`: Converts an input data to a NumPy array if it's not already one.\n",
    "\n",
    "\t-\tIf the input data is already a NumPy array, `np.asarray()` will return a reference to it without creating a copy, unless necessary\n",
    "\n",
    "-\t`np.arange()`: Behaves like `np.array(range(...))`\n",
    "\n",
    "`np.zeros()`: Creates a new array filled with zeros.\n",
    "\n",
    "-\t`np.zeros_like()`: Return an array of zeros with the same shape and type as a given array_like.\n",
    "\n",
    "`np.ones()`: Creates a new array filled with ones.\n",
    "\n",
    "-\t`np.ones_like()`: Return an array of ones with the same shape and type as a given array_like.\n",
    "\n",
    "`np.empty()`: Creates a new array filled with uninitialized values (garbage values).\n",
    "\n",
    "`np.eye()` OR `np.identity()`: Creates a new identity matrix.\n",
    "\n",
    "`np.full(dimension, default)`: fill the array with a customized value instead of zeros (`np.zeros()`) or ones (`np.ones()`)\n",
    "\n",
    "`np.random.rand(#rows,#cols)`\n",
    "\n",
    "`np.linspace()`: Creates an array of evenly spaced values within a specified range.\n"
   ]
  },
  {
   "cell_type": "code",
   "execution_count": 3,
   "metadata": {},
   "outputs": [
    {
     "data": {
      "text/plain": [
       "array(['str', 'True', '10'], dtype='<U11')"
      ]
     },
     "execution_count": 3,
     "metadata": {},
     "output_type": "execute_result"
    }
   ],
   "source": [
    "# numpy arrays can work on only one single type\n",
    "arr = np.array([\"str\", True, 10]) # it will convert them all to str\n",
    "arr"
   ]
  },
  {
   "cell_type": "code",
   "execution_count": 3,
   "metadata": {},
   "outputs": [
    {
     "name": "stdout",
     "output_type": "stream",
     "text": [
      "[[0. 0.]\n",
      " [0. 0.]] \n",
      "\n",
      "[[1. 1.]\n",
      " [1. 1.]] \n",
      "\n",
      "[[1. 0.]\n",
      " [0. 1.]] \n",
      "\n",
      "[[8 8 8]\n",
      " [8 8 8]] \n",
      "\n",
      "[[0.43924    0.7040575 ]\n",
      " [0.51950711 0.93028607]] \n",
      "\n"
     ]
    },
    {
     "data": {
      "text/plain": [
       "array([ 0.        ,  0.52631579,  1.05263158,  1.57894737,  2.10526316,\n",
       "        2.63157895,  3.15789474,  3.68421053,  4.21052632,  4.73684211,\n",
       "        5.26315789,  5.78947368,  6.31578947,  6.84210526,  7.36842105,\n",
       "        7.89473684,  8.42105263,  8.94736842,  9.47368421, 10.        ])"
      ]
     },
     "execution_count": 3,
     "metadata": {},
     "output_type": "execute_result"
    }
   ],
   "source": [
    "print(np.zeros((2, 2)), '\\n')\n",
    "print(np.ones((2, 2)), '\\n')\n",
    "print(np.eye(2), '\\n')\n",
    "print(np.full((2,3), 8), '\\n')\n",
    "print(np.random.rand(2,2), '\\n')\n",
    "np.linspace(0, 10, 20) "
   ]
  },
  {
   "cell_type": "markdown",
   "metadata": {},
   "source": [
    "### Some attributes of an `ndarray` object\n",
    "\n",
    "`ndarray.ndim`: the number of axes (dimensions) of the array\n",
    "\n",
    "`ndarray.shape`: a tuple looks like **(#rows, #cols)**\n",
    "\n",
    "`ndarray.size`: **#rows $\\times$ #cols**\n",
    "\n",
    "`ndarray.dtype`: data type\n",
    "\n",
    "`ndarray.itemsize`: the size (in bytes) of each element in the array\n",
    "\n",
    "`ndarray.data`: a pointer to the actual data (the buffer) stored in the array\n",
    "\n",
    "`ndarray.nbytes`: ndarray.size * ndarray.itemsize"
   ]
  },
  {
   "cell_type": "code",
   "execution_count": 4,
   "metadata": {},
   "outputs": [
    {
     "name": "stdout",
     "output_type": "stream",
     "text": [
      "2 \n",
      "\n",
      "(2, 3) \n",
      "\n",
      "6 \n",
      "\n",
      "int32 \n",
      "\n",
      "4 \n",
      "\n",
      "<memory at 0x0000018A98C8EDC0>\n",
      "24\n"
     ]
    }
   ],
   "source": [
    "arr = np.array([[1,2,3], [4,5,6]])\n",
    "print(arr.ndim, '\\n')\n",
    "print(arr.shape, '\\n')\n",
    "print(arr.size, '\\n')\n",
    "print(arr.dtype, '\\n')\n",
    "print(arr.itemsize, '\\n')\n",
    "print(arr.data)\n",
    "print(arr.nbytes)"
   ]
  },
  {
   "cell_type": "markdown",
   "metadata": {},
   "source": [
    "# Element-wise Calculations"
   ]
  },
  {
   "cell_type": "code",
   "execution_count": 2,
   "metadata": {},
   "outputs": [
    {
     "data": {
      "text/plain": [
       "array([25.        , 35.55555556, 20.76124567, 19.39058172, 35.15625   ])"
      ]
     },
     "execution_count": 2,
     "metadata": {},
     "output_type": "execute_result"
    }
   ],
   "source": [
    "height = [2, 1.5, 1.7, 1.9, 1.6]\n",
    "weight = [100, 80, 60, 70, 90]\n",
    "\n",
    "height_arr = np.array(height)\n",
    "weight_arr = np.array(weight)\n",
    "\n",
    "# you can treat numpy arrays as variables in operations (element-wise calculations) --- Note: You cannot do that with lists\n",
    "bmi_arr = weight_arr / (height_arr ** 2)\n",
    "bmi_arr"
   ]
  },
  {
   "cell_type": "markdown",
   "metadata": {},
   "source": [
    "# Filtering A Numpy Array"
   ]
  },
  {
   "cell_type": "code",
   "execution_count": 3,
   "metadata": {},
   "outputs": [
    {
     "data": {
      "text/plain": [
       "array([ True,  True, False, False,  True])"
      ]
     },
     "execution_count": 3,
     "metadata": {},
     "output_type": "execute_result"
    }
   ],
   "source": [
    "boolean_arr = bmi_arr > 23\n",
    "boolean_arr"
   ]
  },
  {
   "cell_type": "code",
   "execution_count": 4,
   "metadata": {},
   "outputs": [
    {
     "name": "stdout",
     "output_type": "stream",
     "text": [
      "[25.         20.76124567 35.15625   ]\n"
     ]
    },
    {
     "data": {
      "text/plain": [
       "array([25.        , 35.55555556, 35.15625   ])"
      ]
     },
     "execution_count": 4,
     "metadata": {},
     "output_type": "execute_result"
    }
   ],
   "source": [
    "# filtering a numpy array: np_array[boolean_array or boolean_list with the same size of np_array]\n",
    "filtered_bmi = bmi_arr[bmi_arr > 23] \n",
    "print(bmi_arr[[True, False, True, False, True]])\n",
    "filtered_bmi"
   ]
  },
  {
   "cell_type": "markdown",
   "metadata": {},
   "source": [
    "# Element-wise Logical Operations on Two or More Input Arrays.\n",
    "If you want to implement element-wise logical AND operation on:\n",
    "-   two input arrays: `np.logical_and(exp1, exp2)`\n",
    "-   three or more input arrays:\n",
    "    -   Chaining: `np.logical_and(np.logical_and(exp1, exp2), exp3)`\n",
    "    -   Reduce: \n",
    "        ```\n",
    "        from functools import reduce\n",
    "        arrays = [exp1, exp2, exp3]\n",
    "        result = reduce(np.logical_and, arrays)\n",
    "        ``` \n",
    "AND Logical Operator: `np.logical_and(exp1, exp2)`<br>\n",
    "OR Logical Operator: `np.logical_or(exp1, exp2)`<br>\n",
    "NOT Logical Operator: `np.logical_not(exp)`"
   ]
  },
  {
   "cell_type": "code",
   "execution_count": 5,
   "metadata": {},
   "outputs": [
    {
     "data": {
      "text/plain": [
       "array([ True, False,  True, False, False])"
      ]
     },
     "execution_count": 5,
     "metadata": {},
     "output_type": "execute_result"
    }
   ],
   "source": [
    "# print(bmi_arr[bmi_arr > 21 and bmi_arr < 25]) # Error\n",
    "np.logical_and(bmi_arr > 20, bmi_arr <= 25)"
   ]
  },
  {
   "cell_type": "code",
   "execution_count": 6,
   "metadata": {},
   "outputs": [
    {
     "data": {
      "text/plain": [
       "numpy.ndarray"
      ]
     },
     "execution_count": 6,
     "metadata": {},
     "output_type": "execute_result"
    }
   ],
   "source": [
    "type(bmi_arr) # numpy. = a defined type in the numpy package , ndarray = n dimensional array"
   ]
  },
  {
   "cell_type": "markdown",
   "metadata": {},
   "source": [
    "# 2D Array"
   ]
  },
  {
   "cell_type": "code",
   "execution_count": 7,
   "metadata": {},
   "outputs": [
    {
     "data": {
      "text/plain": [
       "array([[  2. ,   1.5,   1.7,   1.9,   1.6],\n",
       "       [100. ,  80. ,  60. ,  70. ,  90. ]])"
      ]
     },
     "execution_count": 7,
     "metadata": {},
     "output_type": "execute_result"
    }
   ],
   "source": [
    "arr_2d = np.array([height,\n",
    "                  weight])\n",
    "arr_2d"
   ]
  },
  {
   "cell_type": "code",
   "execution_count": 8,
   "metadata": {},
   "outputs": [
    {
     "data": {
      "text/plain": [
       "(2, 5)"
      ]
     },
     "execution_count": 8,
     "metadata": {},
     "output_type": "execute_result"
    }
   ],
   "source": [
    "arr_2d.shape # shape is an attribute of a numpy object"
   ]
  },
  {
   "cell_type": "code",
   "execution_count": 9,
   "metadata": {},
   "outputs": [
    {
     "name": "stdout",
     "output_type": "stream",
     "text": [
      "[[ 1.5  1.7]\n",
      " [80.  60. ]]\n"
     ]
    },
    {
     "data": {
      "text/plain": [
       "array([80., 60.])"
      ]
     },
     "execution_count": 9,
     "metadata": {},
     "output_type": "execute_result"
    }
   ],
   "source": [
    "# arr_2d[0][2] is equivalent to arr_2d[0, 2], but arr_2d[0, 2] is a better syntax as it has more capabilities \n",
    "print(arr_2d[:, 1:3]) # subset of the whole 2d array\n",
    "arr_2d[1, 1:3] # subset of the 2nd row"
   ]
  },
  {
   "cell_type": "markdown",
   "metadata": {},
   "source": [
    "# Broadcasting\n",
    "Create a 1D array with the same number of elements as the columns of another ndarray. This allows for element-wise operations across each row of the larger array."
   ]
  },
  {
   "cell_type": "code",
   "execution_count": 6,
   "metadata": {},
   "outputs": [
    {
     "data": {
      "text/plain": [
       "array([[ 4.572    , 35.5616128, 22.       ],\n",
       "       [ 5.461    , 46.5838984, 28.       ],\n",
       "       [ 5.334    , 44.678812 , 26.       ]])"
      ]
     },
     "execution_count": 6,
     "metadata": {},
     "output_type": "execute_result"
    }
   ],
   "source": [
    "# Broadcasting Feature\n",
    "# 3 cols: height, weight, age\n",
    "np_baseball = np.array([[180, 78.4, 22], \n",
    "                        [215, 102.7, 28], \n",
    "                        [210, 98.5, 26]])\n",
    "\n",
    "# 1D array with 3 elements which is equal to the number of columns of np_baseball array\n",
    "conversion = np.array([0.0254, 0.453592, 1])\n",
    " \n",
    "result = np_baseball * conversion\n",
    "result"
   ]
  },
  {
   "cell_type": "code",
   "execution_count": 9,
   "metadata": {},
   "outputs": [
    {
     "data": {
      "text/plain": [
       "array([[ 4.572    , 35.5616128, 22.       ],\n",
       "       [ 5.461    , 46.5838984, 28.       ],\n",
       "       [ 5.334    , 44.678812 , 26.       ]])"
      ]
     },
     "execution_count": 9,
     "metadata": {},
     "output_type": "execute_result"
    }
   ],
   "source": [
    "# swap\n",
    "result =  conversion * np_baseball\n",
    "result"
   ]
  },
  {
   "cell_type": "markdown",
   "metadata": {},
   "source": [
    "# Matrix Multiplication"
   ]
  },
  {
   "cell_type": "code",
   "execution_count": 46,
   "metadata": {},
   "outputs": [
    {
     "data": {
      "text/plain": [
       "array([[ 50],\n",
       "       [122]])"
      ]
     },
     "execution_count": 46,
     "metadata": {},
     "output_type": "execute_result"
    }
   ],
   "source": [
    "A = np.array([[1, 2, 3], [4, 5, 6]]) # shape (2, 3)\n",
    "B = np.array([[7], [8], [9]]) # shape (3, 1)\n",
    "C = np.dot(A, B) # shape (2, 1)\n",
    "C # equivalent to: C = A @ B"
   ]
  },
  {
   "cell_type": "markdown",
   "metadata": {},
   "source": [
    "### `ndarray.transpose`\n",
    "\n",
    "After transposing an array, rows become columns and column become rows → so its shape change from (n, m) to (m, n)"
   ]
  },
  {
   "cell_type": "code",
   "execution_count": 48,
   "metadata": {},
   "outputs": [
    {
     "data": {
      "text/plain": [
       "array([[1, 4],\n",
       "       [2, 5],\n",
       "       [3, 6]])"
      ]
     },
     "execution_count": 48,
     "metadata": {},
     "output_type": "execute_result"
    }
   ],
   "source": [
    "A.transpose()"
   ]
  },
  {
   "cell_type": "markdown",
   "metadata": {},
   "source": [
    "## Array concatenation\n",
    "\n",
    "We can concatenate arrays vertically using `axis=0` or horizontally using `axis=1`"
   ]
  },
  {
   "cell_type": "code",
   "execution_count": 60,
   "metadata": {},
   "outputs": [
    {
     "name": "stdout",
     "output_type": "stream",
     "text": [
      "[1 2 3 4 5 6]\n",
      "[1 2 3 4 5 6]\n",
      "[1, 2, 3, 4, 5, 6]\n"
     ]
    }
   ],
   "source": [
    "arr1 = [1,2,3] ; arr2 = [4,5,6]\n",
    "\n",
    "# method 1:\n",
    "print(np.append(arr1, arr2))\n",
    "\n",
    "# method 2:\n",
    "print(np.concatenate([arr1, arr2]))\n",
    "\n",
    "# method 3:\n",
    "print(arr1.__add__(arr2)) # returns a list, not an array"
   ]
  },
  {
   "cell_type": "markdown",
   "metadata": {},
   "source": [
    "### `np.stack`, \n",
    "### `np.vstack` **=** `np.row_stack`, and \n",
    "### `np.hstack` **=** `np.column_stack`\n",
    "\n",
    "<br>\n",
    "\n",
    "stack arrays "
   ]
  },
  {
   "cell_type": "code",
   "execution_count": 46,
   "metadata": {},
   "outputs": [],
   "source": [
    "arr1 = [[1,2,3], \n",
    "        [4,5,6]] \n",
    "\n",
    "arr2 = [[6,7,8], \n",
    "        [9,10,11]]"
   ]
  },
  {
   "cell_type": "code",
   "execution_count": 47,
   "metadata": {},
   "outputs": [
    {
     "name": "stdout",
     "output_type": "stream",
     "text": [
      "[[[ 1  2  3]\n",
      "  [ 4  5  6]]\n",
      "\n",
      " [[ 6  7  8]\n",
      "  [ 9 10 11]]] \n",
      "\n",
      "=========\n",
      "[[[ 1  2  3]\n",
      "  [ 6  7  8]]\n",
      "\n",
      " [[ 4  5  6]\n",
      "  [ 9 10 11]]] \n",
      "\n",
      "=========\n",
      "[[ 1  2  3]\n",
      " [ 4  5  6]\n",
      " [ 6  7  8]\n",
      " [ 9 10 11]] \n",
      "\n",
      "---------\n",
      "[[ 1  2  3]\n",
      " [ 4  5  6]\n",
      " [ 6  7  8]\n",
      " [ 9 10 11]] \n",
      "\n",
      "=========\n",
      "[[ 1  2  3  6  7  8]\n",
      " [ 4  5  6  9 10 11]] \n",
      "\n",
      "---------\n",
      "[[ 1  2  3  6  7  8]\n",
      " [ 4  5  6  9 10 11]] \n",
      "\n"
     ]
    }
   ],
   "source": [
    "print(np.stack((arr1, arr2), axis=0), '\\n')\n",
    "\n",
    "print('=========')\n",
    "\n",
    "print(np.stack((arr1, arr2), axis=1), '\\n')\n",
    "\n",
    "print('=========')\n",
    "\n",
    "print(np.vstack((arr1, arr2)), '\\n')\n",
    "print('---------')\n",
    "print(np.row_stack((arr1, arr2)), '\\n')\n",
    "\n",
    "print('=========')\n",
    "\n",
    "print(np.hstack((arr1, arr2)), '\\n')\n",
    "print('---------')\n",
    "print(np.column_stack((arr1, arr2)), '\\n')"
   ]
  },
  {
   "cell_type": "markdown",
   "metadata": {},
   "source": [
    "#### `np.c_[col1, col2]`\n",
    "\n",
    "concatenate multiple columns into a single `ndarray`"
   ]
  },
  {
   "cell_type": "code",
   "execution_count": 4,
   "metadata": {},
   "outputs": [
    {
     "data": {
      "text/plain": [
       "array([[1, 4],\n",
       "       [2, 5],\n",
       "       [3, 6]])"
      ]
     },
     "execution_count": 4,
     "metadata": {},
     "output_type": "execute_result"
    }
   ],
   "source": [
    "np.c_[arr1, arr2]"
   ]
  },
  {
   "cell_type": "markdown",
   "metadata": {},
   "source": [
    "# Splitting"
   ]
  },
  {
   "cell_type": "markdown",
   "metadata": {},
   "source": [
    "### `np.split()` AND `np.array_split()`\n",
    "\n",
    "`np.split()` → even splits\n",
    "\n",
    "`np.array_split()` → uneven splits"
   ]
  },
  {
   "cell_type": "code",
   "execution_count": 51,
   "metadata": {},
   "outputs": [
    {
     "name": "stdout",
     "output_type": "stream",
     "text": [
      "[array([1, 2]), array([3, 4]), array([5, 6])]\n",
      "[array([1, 2]), array([3, 4]), array([5]), array([6])]\n"
     ]
    }
   ],
   "source": [
    "arr = np.array([1, 2, 3, 4, 5, 6])\n",
    "print(np.split(arr, 3))\n",
    "# print(np.split(arr, 4)) # ValueError: array split does not result in an equal division\n",
    "print(np.array_split(arr, 4))"
   ]
  },
  {
   "cell_type": "markdown",
   "metadata": {},
   "source": [
    "# Reshaping"
   ]
  },
  {
   "cell_type": "markdown",
   "metadata": {},
   "source": [
    "### `arr.reshape(Shape)` OR `np.reshape(arr, Shape)` \n",
    "\n",
    "`Shape` can be two numbers or a tuple contains two numbers (#rows, #cols)\n",
    "\n",
    "The multiplication of #rows and #cols in the new shape must be equal to the multiplication of #rows and #cols in the old shape.\n",
    "-\tsize1 = size2"
   ]
  },
  {
   "cell_type": "code",
   "execution_count": 19,
   "metadata": {},
   "outputs": [
    {
     "name": "stdout",
     "output_type": "stream",
     "text": [
      "[[1 2]\n",
      " [3 4]]\n"
     ]
    }
   ],
   "source": [
    "arr = np.array([1,2,3,4])\n",
    "# OR: put dimensions in a tuple: arr.reshape((2, 2)) \n",
    "# OR: np.reshape(arr, (2,2))\n",
    "print(arr.reshape(2, 2)) "
   ]
  },
  {
   "cell_type": "code",
   "execution_count": 25,
   "metadata": {},
   "outputs": [
    {
     "name": "stdout",
     "output_type": "stream",
     "text": [
      "[[1 2]\n",
      " [3 4]] \n",
      "\n",
      "[[1 2 3 4]] \n",
      "\n",
      "[[1]\n",
      " [2]\n",
      " [3]\n",
      " [4]] \n",
      "\n"
     ]
    }
   ],
   "source": [
    "# We can pass only one dimension and set the other to be unknown (-1)\n",
    "print(arr.reshape(2, -1), '\\n') \n",
    "print(arr.reshape(-1, 4), '\\n') \n",
    "print(arr.reshape(4, -1), '\\n')  \n",
    "# Note: only one dimension can be set to '-1'"
   ]
  },
  {
   "cell_type": "markdown",
   "metadata": {},
   "source": [
    "### `ndarray.flatten()` vs. `ndarray.ravel()`\n",
    "\n",
    "- **View vs. Copy:**  \n",
    "  `ravel()` returns a view of the original array whenever possible, which means that modifying the result might affect the original array. If a view is not possible (for example, if the array is not contiguous), then it returns a copy.\n",
    "\n",
    "- **Difference from `flatten()`:**  \n",
    "  The `flatten()` method always returns a copy of the array, while `ravel()` tries to return a view. *This makes `ravel()` generally more efficient when you just need to iterate over elements in one dimension*.\n"
   ]
  },
  {
   "cell_type": "code",
   "execution_count": 34,
   "metadata": {},
   "outputs": [
    {
     "name": "stdout",
     "output_type": "stream",
     "text": [
      "flat: [1 2 3 4 5 6 7 8] \n",
      "\n",
      "view: [1 2 3 4 5 6 7 8] \n",
      "\n",
      "arr: [[[123   2]\n",
      "  [  3   4]]\n",
      "\n",
      " [[  5   6]\n",
      "  [  7   8]]] \n",
      "\n",
      "flat: [1 2 3 4 5 6 7 8] \n",
      "\n",
      "view: [123   2   3   4   5   6   7   8] \n",
      "\n"
     ]
    }
   ],
   "source": [
    "# 3D-ndarray\n",
    "arr = np.array([\n",
    "    \t\t\t[[1, 2], [3, 4]],\n",
    "                [[5, 6], [7, 8]]\n",
    "\t\t\t\t])\n",
    "flat = arr.flatten() # = arr.reshape(-1)\n",
    "print('flat:', flat, '\\n') \n",
    "view = arr.ravel() # returns a view\n",
    "print('view:', view, '\\n')\n",
    "view[0] = 123\n",
    "print('arr:', arr, '\\n')\n",
    "print('flat:', flat, '\\n')\n",
    "print('view:', view, '\\n')"
   ]
  },
  {
   "cell_type": "markdown",
   "metadata": {},
   "source": [
    "## Insertion"
   ]
  },
  {
   "cell_type": "code",
   "execution_count": 32,
   "metadata": {},
   "outputs": [
    {
     "name": "stdout",
     "output_type": "stream",
     "text": [
      "[1, 2, 3, 4]\n",
      "[1, 2, 5, 3, 4]\n"
     ]
    }
   ],
   "source": [
    "# you can convert the array into a list. \n",
    "# Then convert the new modified list into an array. \n",
    "\n",
    "arr = [1,2,3]\n",
    "\n",
    "# insert at the end\n",
    "arr.append(4)\n",
    "print(arr)\n",
    "\n",
    "# insert at a certain index\n",
    "arr.insert(2, 5)\n",
    "print(arr)"
   ]
  },
  {
   "cell_type": "markdown",
   "metadata": {},
   "source": [
    "## Deletion"
   ]
  },
  {
   "cell_type": "code",
   "execution_count": 71,
   "metadata": {},
   "outputs": [
    {
     "name": "stdout",
     "output_type": "stream",
     "text": [
      "[2, 3]\n",
      "[3]\n"
     ]
    }
   ],
   "source": [
    "# you can convert the array into a list. \n",
    "# Then convert the new modified list into an array. \n",
    "\n",
    "# delete an element with a certain index\n",
    "\n",
    "arr = [1,2,3]\n",
    "\n",
    "# method 1: \n",
    "del arr[0]\n",
    "print(arr)\n",
    "\n",
    "# method 2: \n",
    "arr.__delitem__(0)\n",
    "print(arr)"
   ]
  },
  {
   "cell_type": "markdown",
   "metadata": {},
   "source": [
    "## `numpy.linalg`\n",
    "\n",
    "It's the linear algebra module in NumPy."
   ]
  },
  {
   "cell_type": "markdown",
   "metadata": {},
   "source": [
    "### Inverse & determinant of an ndarray matrix"
   ]
  },
  {
   "cell_type": "code",
   "execution_count": 53,
   "metadata": {},
   "outputs": [
    {
     "name": "stdout",
     "output_type": "stream",
     "text": [
      "-2.9999999999999996 \n",
      "\n",
      "[[-1.66666667  0.66666667]\n",
      " [ 1.33333333 -0.33333333]] \n",
      "\n",
      "[[ 9 12]\n",
      " [24 33]] \n",
      "\n",
      "2 \n",
      "\n",
      "EigResult(eigenvalues=array([-0.46410162,  6.46410162]), eigenvectors=array([[-0.80689822, -0.34372377],\n",
      "       [ 0.59069049, -0.9390708 ]])) \n",
      "\n"
     ]
    }
   ],
   "source": [
    "arr = [[1,2], [4,5]]\n",
    "\n",
    "print(np.linalg.det(arr), '\\n')\n",
    "print(np.linalg.inv(arr), '\\n')\n",
    "print(np.linalg.matrix_power(arr, 2), '\\n')\n",
    "print(np.linalg.matrix_rank(arr), '\\n')\n",
    "print(np.linalg.eig(arr), '\\n')\n",
    "\n",
    "# Notes:\n",
    "# If you try to invert a matrix with a determinant of zero (singular matrix), NumPy will raise a `LinAlgError`.\n",
    "# These functions only work on square matrices. For example, a 2x2 or 3x3 array, but not a 2x3 array."
   ]
  },
  {
   "cell_type": "markdown",
   "metadata": {},
   "source": [
    "# Mathematical Functions"
   ]
  },
  {
   "cell_type": "code",
   "execution_count": 10,
   "metadata": {},
   "outputs": [
    {
     "name": "stdout",
     "output_type": "stream",
     "text": [
      "[1.41421356 2.         3.         4.        ] \n",
      "\n",
      "[7.38905610e+00 5.45981500e+01 8.10308393e+03 8.88611052e+06] \n",
      "\n",
      "[0.69314718 1.38629436 2.19722458 2.77258872] \n",
      "\n",
      "[ 0.90929743 -0.7568025   0.41211849 -0.28790332] \n",
      "\n",
      "[-0.41614684 -0.65364362 -0.91113026 -0.95765948] \n",
      "\n"
     ]
    }
   ],
   "source": [
    "arr = np.array([2,4,9,16])\n",
    "print(np.sqrt(arr), '\\n')\n",
    "print(np.exp(arr), '\\n')\n",
    "print(np.log(arr), '\\n')\n",
    "print(np.sin(arr), '\\n')\n",
    "print(np.cos(arr), '\\n')"
   ]
  },
  {
   "cell_type": "markdown",
   "metadata": {},
   "source": [
    "## Trigonometric functions\n",
    "\n",
    "takes angles in radian → angle_in_radian = (angle_in_degrees * `np.pi`) / 180"
   ]
  },
  {
   "cell_type": "code",
   "execution_count": 93,
   "metadata": {},
   "outputs": [
    {
     "name": "stdout",
     "output_type": "stream",
     "text": [
      "0.49999999999999994 \n",
      "\n",
      "0.8660254037844387\n"
     ]
    }
   ],
   "source": [
    "angle = 30\n",
    "print(np.sin(angle*np.pi/180), '\\n') # 0.5\n",
    "print(np.cos(angle*np.pi/180)) # sqrt(3) / 2"
   ]
  },
  {
   "cell_type": "markdown",
   "metadata": {},
   "source": [
    "## Rounding"
   ]
  },
  {
   "cell_type": "code",
   "execution_count": 100,
   "metadata": {},
   "outputs": [
    {
     "name": "stdout",
     "output_type": "stream",
     "text": [
      "[1.1 2.5 3.8]\n",
      "[1. 2. 3.]\n",
      "[2. 3. 4.]\n"
     ]
    }
   ],
   "source": [
    "# np.round(1.4564, 2) = round(1.4564, 2) \n",
    "\n",
    "arr = [1.123, 2.456, 3.789]\n",
    "print(np.around(arr, decimals=1)) # keep one number after the decimal point\n",
    "print(np.floor(arr)) \n",
    "print(np.ceil(arr)) "
   ]
  },
  {
   "cell_type": "markdown",
   "metadata": {},
   "source": [
    "## Sorting"
   ]
  },
  {
   "cell_type": "code",
   "execution_count": 107,
   "metadata": {},
   "outputs": [
    {
     "name": "stdout",
     "output_type": "stream",
     "text": [
      "[[1 3 5]\n",
      " [2 4 6]] \n",
      "\n",
      "[[4 2 1]\n",
      " [5 3 6]]\n"
     ]
    }
   ],
   "source": [
    "arr = [[5,3,1], [4,2,6]]\n",
    "\n",
    "print(np.sort(arr), '\\n') # sort each row (default)\n",
    "print(np.sort(arr, axis=0)) # sort each column"
   ]
  },
  {
   "cell_type": "markdown",
   "metadata": {},
   "source": [
    "## Flatting an array_like \n",
    "\n",
    "-\t`np.concatenate` flats the array one level back → `np.concatenate(3D_arr_like)` returns a 2D array\n",
    "\n",
    "-\t`arr.flatten()` OR `arr.flat[:]` completely flats the array to its 1D version → `np.array(3D_arr_like).flatten()` returns a 1D array"
   ]
  },
  {
   "cell_type": "markdown",
   "metadata": {},
   "source": [
    "# Basic Statistics\n",
    "### Standard Deviation\n",
    "- Standard deviation tells us, on average, how much each data point deviates from the mean.\n",
    "It is widely used because it is expressed in the same units as the data, making it easier to understand and compare.\n",
    "A high standard deviation indicates that data points are spread out over a large range of values.\n",
    "A low standard deviation indicates that data points tend to be close to the mean.\n",
    "\n",
    "- Practical Example (Weather Data)\n",
    "    - If we measure daily temperatures over a month and calculate the standard deviation, a high standard deviation would mean that temperatures fluctuate widely from day to day, whereas a low standard deviation would mean that temperatures are relatively stable.\n",
    "\n",
    "- Equation\n",
    "    - For a population standard deviation: $\\sigma = \\sqrt{\\frac{\\sum (x_i - \\mu)^2}{N}}$\n",
    "    - For a sample standard deviation: $s = \\sqrt{\\frac{\\sum (x_i - \\bar{x})^2}{n - 1}}$\n"
   ]
  },
  {
   "cell_type": "code",
   "execution_count": 12,
   "metadata": {},
   "outputs": [
    {
     "name": "stdout",
     "output_type": "stream",
     "text": [
      "201.66666666666666\n",
      "210.0\n",
      "15.456030825826172\n",
      "605.0\n"
     ]
    },
    {
     "data": {
      "text/plain": [
       "array([[1.        , 0.99955168],\n",
       "       [0.99955168, 1.        ]])"
      ]
     },
     "execution_count": 12,
     "metadata": {},
     "output_type": "execute_result"
    }
   ],
   "source": [
    "height_mean = np.mean(np_baseball[:, 0])\n",
    "print(height_mean)\n",
    "height_median = np.median(np_baseball[:, 0])\n",
    "print(height_median)\n",
    "height_std = np.std(np_baseball[:, 0])\n",
    "print(height_std)\n",
    "\n",
    "# np.sum() & np.sort() are much faster than sort() and sum() methods in lists because numpy deals with only one data type \n",
    "print(np.sum(np_baseball[:, 0]))\n",
    "\n",
    "# check whether height and weight are correlated using Pearson's r (numeric vs. numeric)\n",
    "np.corrcoef(np_baseball[:, 0], np_baseball[:, 1])"
   ]
  },
  {
   "cell_type": "code",
   "execution_count": 13,
   "metadata": {},
   "outputs": [
    {
     "name": "stdout",
     "output_type": "stream",
     "text": [
      "MAX: 4\n",
      "arg_MAX: 3\n",
      "MIN: 1\n",
      "arg_MIN: 0\n"
     ]
    }
   ],
   "source": [
    "arr = np.array([1,2,3,4])\n",
    "print(\"MAX:\", arr.max()) # OR: np.max(arr)\n",
    "print(\"arg_MAX:\", arr.argmax()) # OR: np.argmax(arr)\n",
    "print(\"MIN:\", arr.min()) # OR: np.min(arr)\n",
    "print(\"arg_MIN:\", arr.argmin()) # OR: np.argmin(arr)"
   ]
  },
  {
   "cell_type": "markdown",
   "metadata": {},
   "source": [
    "# `numpy.random` vs. `random` module\n",
    "\n",
    "`numpy.random` is more powerful than the `random` module. If you are working on simple random operations, the `random` module suffices. However, for data science, numerical computations, or scientific simulations, `numpy.random` is the better choice due to its **supporting for arrays and many distributions** → source: ChatGPT 😊\n",
    "\n",
    "**N.B.** When using multiple threads in your program, `random.seed()` may be safer than `np.random.seed()` → [source](https://stackoverflow.com/questions/7029993/differences-between-numpy-random-and-random-random-in-python)\n",
    "\n",
    "A [Source](https://geoffruddock.com/python-random-module-faster-than-numpy/) for showing that some functions in the `random` module are much more efficient than their corresponding functions in `numpy.random`\n"
   ]
  },
  {
   "cell_type": "markdown",
   "metadata": {},
   "source": [
    "### `np.random.choice()` → Selecting element(s) from a sequence randomly\n",
    "\n",
    "We can use `np.random.choice()` instead of using `random.sample()`, `random.choices()`, and `random.choice()`\n"
   ]
  },
  {
   "cell_type": "code",
   "execution_count": null,
   "metadata": {},
   "outputs": [],
   "source": [
    "# np.random.choice([1, 2, 3, 4], size=3, replace=False) = random.sample([1, 2, 3, 4], k=3) # without replacement \n",
    "# np.random.choice([1, 2, 3, 4], size=3, replace=True) = random.choices([1, 2, 3, 4], k=3) # with replacement (\"resampling\") \n",
    "# np.random.choice([1, 2, 3, 4]) = random.choice([1, 2, 3, 4]) # choose a single element "
   ]
  },
  {
   "cell_type": "code",
   "execution_count": null,
   "metadata": {},
   "outputs": [],
   "source": []
  },
  {
   "cell_type": "code",
   "execution_count": 13,
   "metadata": {},
   "outputs": [
    {
     "name": "stdout",
     "output_type": "stream",
     "text": [
      "0.3795442607682439\n",
      "[ 9.51072506 14.51242039  6.96380592  9.13052     8.77769593]\n"
     ]
    },
    {
     "data": {
      "text/plain": [
       "array([[ 1.8 , 53.76],\n",
       "       [ 1.75, 45.1 ],\n",
       "       [ 1.79, 71.29],\n",
       "       ...,\n",
       "       [ 1.75, 36.54],\n",
       "       [ 1.85, 63.04],\n",
       "       [ 1.81, 69.47]])"
      ]
     },
     "execution_count": 13,
     "metadata": {},
     "output_type": "execute_result"
    }
   ],
   "source": [
    "# Generate a single random number from a normal distribution with mean 0 and standard deviation 1\n",
    "random_num = np.random.normal()\n",
    "print(random_num)\n",
    "\n",
    "# Generate an array of 5 random numbers from a normal distribution with mean 10 and standard deviation 2\n",
    "random_array = np.random.normal(loc=10, scale=2, size=5)\n",
    "print(random_array)\n",
    "\n",
    "h = np.round(np.random.normal(1.75, 0.20, 5000), 2) \n",
    "w = np.round(np.random.normal(60.32, 15, 5000), 2) \n",
    "\n",
    "np_city = np.column_stack((h, w))\n",
    "np_city"
   ]
  },
  {
   "cell_type": "code",
   "execution_count": 14,
   "metadata": {},
   "outputs": [
    {
     "name": "stdout",
     "output_type": "stream",
     "text": [
      "1\n",
      "2\n",
      "3\n",
      "4\n",
      "5\n",
      "6\n",
      "\n",
      "\n",
      "1\n",
      "4\n",
      "2\n",
      "5\n",
      "3\n",
      "6\n"
     ]
    }
   ],
   "source": [
    "array_2d = np.array([[1,2,3], [4,5,6]])\n",
    "iterator = np.nditer(array_2d) # order parameter is by default = 'C' (row-major order, C-style)\n",
    "for x in iterator:\n",
    "    print(x)\n",
    "print(\"\\n\")\n",
    "iterator = np.nditer(array_2d, order='F') # order = 'F' (column-major order, Fortran-style)\n",
    "for x in iterator:\n",
    "    print(x)"
   ]
  },
  {
   "cell_type": "markdown",
   "metadata": {},
   "source": [
    "# Miscellaneous "
   ]
  },
  {
   "cell_type": "markdown",
   "metadata": {},
   "source": [
    "#### `np.ptp`\n",
    "\n",
    "calculate the difference between the 1st and last value in an array-like object"
   ]
  },
  {
   "cell_type": "code",
   "execution_count": 12,
   "metadata": {},
   "outputs": [
    {
     "data": {
      "text/plain": [
       "2"
      ]
     },
     "execution_count": 12,
     "metadata": {},
     "output_type": "execute_result"
    }
   ],
   "source": [
    "arr1 = [1,2,3]\n",
    "np.ptp(arr1)"
   ]
  },
  {
   "cell_type": "markdown",
   "metadata": {},
   "source": [
    "### `np.unique()`"
   ]
  },
  {
   "cell_type": "code",
   "execution_count": 54,
   "metadata": {},
   "outputs": [
    {
     "data": {
      "text/plain": [
       "array([1, 2, 3, 4, 5])"
      ]
     },
     "execution_count": 54,
     "metadata": {},
     "output_type": "execute_result"
    }
   ],
   "source": [
    "np.unique([1,2,3,4,5,1,2,3,4,5])"
   ]
  },
  {
   "cell_type": "code",
   "execution_count": null,
   "metadata": {},
   "outputs": [],
   "source": []
  }
 ],
 "metadata": {
  "kernelspec": {
   "display_name": "Python 3",
   "language": "python",
   "name": "python3"
  },
  "language_info": {
   "codemirror_mode": {
    "name": "ipython",
    "version": 3
   },
   "file_extension": ".py",
   "mimetype": "text/x-python",
   "name": "python",
   "nbconvert_exporter": "python",
   "pygments_lexer": "ipython3",
   "version": "3.12.1"
  }
 },
 "nbformat": 4,
 "nbformat_minor": 2
}
